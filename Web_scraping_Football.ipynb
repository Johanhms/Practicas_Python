{
  "nbformat": 4,
  "nbformat_minor": 0,
  "metadata": {
    "colab": {
      "provenance": [],
      "authorship_tag": "ABX9TyPdh1/Ih9QFoMDjXxY1/2Wk",
      "include_colab_link": true
    },
    "kernelspec": {
      "name": "python3",
      "display_name": "Python 3"
    },
    "language_info": {
      "name": "python"
    }
  },
  "cells": [
    {
      "cell_type": "markdown",
      "metadata": {
        "id": "view-in-github",
        "colab_type": "text"
      },
      "source": [
        "<a href=\"https://colab.research.google.com/github/Johanhms/Learning_Python/blob/main/Web_scraping_Football.ipynb\" target=\"_parent\"><img src=\"https://colab.research.google.com/assets/colab-badge.svg\" alt=\"Open In Colab\"/></a>"
      ]
    },
    {
      "cell_type": "code",
      "source": [
        "import requests\n",
        "\n",
        "standings_url = \"https://fbref.com/en/comps/9/2024-2025/2024-2025-Premier-League-Stats\"\n",
        "\n",
        "data = requests.get(standings_url)"
      ],
      "metadata": {
        "id": "UeLShW0Wd14j"
      },
      "execution_count": null,
      "outputs": []
    },
    {
      "cell_type": "code",
      "source": [
        "data.text"
      ],
      "metadata": {
        "colab": {
          "base_uri": "https://localhost:8080/",
          "height": 105
        },
        "id": "o7CmY7tXd5Kn",
        "outputId": "e387a49a-f243-460d-ec1d-6df971a4d855"
      },
      "execution_count": null,
      "outputs": [
        {
          "output_type": "execute_result",
          "data": {
            "text/plain": [
              "'<!DOCTYPE html><html lang=\"en-US\"><head><title>Just a moment...</title><meta http-equiv=\"Content-Type\" content=\"text/html; charset=UTF-8\"><meta http-equiv=\"X-UA-Compatible\" content=\"IE=Edge\"><meta name=\"robots\" content=\"noindex,nofollow\"><meta name=\"viewport\" content=\"width=device-width,initial-scale=1\"><style>*{box-sizing:border-box;margin:0;padding:0}html{line-height:1.15;-webkit-text-size-adjust:100%;color:#313131;font-family:system-ui,-apple-system,BlinkMacSystemFont,\"Segoe UI\",Roboto,\"Helvetica Neue\",Arial,\"Noto Sans\",sans-serif,\"Apple Color Emoji\",\"Segoe UI Emoji\",\"Segoe UI Symbol\",\"Noto Color Emoji\"}body{display:flex;flex-direction:column;height:100vh;min-height:100vh}.main-content{margin:8rem auto;padding-left:1.5rem;max-width:60rem}@media (width <= 720px){.main-content{margin-top:4rem}}.h2{line-height:2.25rem;font-size:1.5rem;font-weight:500}@media (width <= 720px){.h2{line-height:1.5rem;font-size:1.25rem}}#challenge-error-text{background-image:url(\"data:image/svg+xml;base64,PHN2ZyB4bWxucz0iaHR0cDovL3d3dy53My5vcmcvMjAwMC9zdmciIHdpZHRoPSIzMiIgaGVpZ2h0PSIzMiIgZmlsbD0ibm9uZSI+PHBhdGggZmlsbD0iI0IyMEYwMyIgZD0iTTE2IDNhMTMgMTMgMCAxIDAgMTMgMTNBMTMuMDE1IDEzLjAxNSAwIDAgMCAxNiAzbTAgMjRhMTEgMTEgMCAxIDEgMTEtMTEgMTEuMDEgMTEuMDEgMCAwIDEtMTEgMTEiLz48cGF0aCBmaWxsPSIjQjIwRjAzIiBkPSJNMTcuMDM4IDE4LjYxNUgxNC44N0wxNC41NjMgOS41aDIuNzgzem0tMS4wODQgMS40MjdxLjY2IDAgMS4wNTcuMzg4LjQwNy4zODkuNDA3Ljk5NCAwIC41OTYtLjQwNy45ODQtLjM5Ny4zOS0xLjA1Ny4zODktLjY1IDAtMS4wNTYtLjM4OS0uMzk4LS4zODktLjM5OC0uOTg0IDAtLjU5Ny4zOTgtLjk4NS40MDYtLjM5NyAxLjA1Ni0uMzk3Ii8+PC9zdmc+\");background-repeat:no-repeat;background-size:contain;padding-left:34px}@media (prefers-color-scheme: dark){body{background-color:#222;color:#d9d9d9}}</style><meta http-equiv=\"refresh\" content=\"360\"></head><body><div class=\"main-wrapper\" role=\"main\"><div class=\"main-content\"><noscript><div class=\"h2\"><span id=\"challenge-error-text\">Enable JavaScript and cookies to continue</span></div></noscript></div></div><script>(function(){window._cf_chl_opt = {cvId: \\'3\\',cZone: \\'fbref.com\\',cType: \\'managed\\',cRay: \\'9799ea5beff8d908\\',cH: \\'P5ouAEvwytPtjN928.lGCdEuiztqLtDFQKZAJqsGdbc-1756951459-1.2.1.1-GCXL7v3_6OqDDxTKbbQFOzjYxY29CFcawCANPEcWz_25kSOuWApmK0dG8G_9ejpv\\',cUPMDTk:\"\\\\/en\\\\/comps\\\\/9\\\\/2024-2025\\\\/2024-2025-Premier-League-Stats?__cf_chl_tk=jILTIO5GNVkVqP2Y4yEIr0bF6zkBygR5uoFm5si33Yg-1756951459-1.0.1.1-oiev2P1vzGJdwV_bgDqLS_NUXGRimVNi6KSdK_Nak1g\",cFPWv: \\'b\\',cITimeS: \\'1756951459\\',cTplC:0,cTplV:5,cTplB: \\'cf\\',fa:\"\\\\/en\\\\/comps\\\\/9\\\\/2024-2025\\\\/2024-2025-Premier-League-Stats?__cf_chl_f_tk=jILTIO5GNVkVqP2Y4yEIr0bF6zkBygR5uoFm5si33Yg-1756951459-1.0.1.1-oiev2P1vzGJdwV_bgDqLS_NUXGRimVNi6KSdK_Nak1g\",md: \\'2e6TDfcvB9zGhiY4I7z2Nwo9dNnmMetAGaq85bMqPFA-1756951459-1.2.1.1-Wt6x.FRBCcg4pBZSkR5gkqBlrW55bxMuwcDhU0vzjttfCPz1NFDUTYLvuVlIgHAiO2makxYgomIjgQrbJnYAxVi0jkfEELcs7ok1.S8UT0gkoAGbdW5sEmRe3PChlIvtqEsV8UuMVPl_Yeqyw3z14FBi_bJ8PwHdddN12mS7LdXSgxdsJPFCB1Ixvu7moL7JzCjberpQBmZ8MEtfeK2jRVSzoHwbxoPzFKsXJtZKOenItn.Gx9ag4xyjbhdsYsGyw3Rso0nkejk2o8SFGbGXU5x23vuf9V2Q_kWHaKGIe8zqAj4IlBtObGatpwZTtjjSXCCQCgeJdtvTED9rdVxoFoep35tr2phFfXVwuHG.6AcRvbaILjPCBLF_tg54GV4UO33alLriGq8XJfjS3J5Gal7b2PIqpOQLm9xzi9wr.3QKKKxNZQ3aaSirZG8x8_iv22U30kfSsS7oCAop8jy75WSaY1WcyotySPNg7KCrsymOnMbkheGRsl3evKnrtw0wd0BhshSr3fuKHhM24jaEf6dfMeUF2gcgMIsqcQiSlcwMSdDOfB6JmMwmzn5Z4cbo.naSfog9VlRwxHlH6n7TrkMyj48R0abblUjEO67qd4k7Qhqu091caW0CwLl6.l38c1vYrf1P6h4gsrNaxCZ4jBkX09HuTnCJyeExdvj2FPr1ubFegZ4hSNUTckuThoWSG3qG9pXJfDXhKpCSajCyNRWxa6m4VresbOoXoUJNt5f1ZxEVuLbkiQQu7SoW9B1EquIdVJXf.yjWPS5nNgjiXjLfpglQtgG_jjyPE6zsWl6pW0Fx3VFKti8mjP3RtH8qkyWJlg_ohPlj1pSwnDDtybdDt1G_Z8J2W989LpcU7fBHmOLmydTXTsDFxfbbq8ru12po9X0EHig59ySIRpyrBUgXQmKGL_5_in9Db9QbvjDsTA489IluqrkQeJYXidUGmS9iq20fu4VegCmJTcQo.EqnbKB_sOADIFt84_MVYp4\\',mdrd: \\'Kq6IAkqwVQQfJZyKX.mpyH9lGQ.eK1nEksdkmbsAgHc-1756951459-1.2.1.1-rZSa_2ZiJzqzBwaw6cS8mkrHECLSWQNUCnYKfi2sjC8uujnqIo7uUw2M4vB0rqKQcewX58sj9fxQswYor0eFR.YuunSiUXNJnnJpLCvxMBtAjS.ek5WXoh.24nS4DdC4BFbVboecM.1a_N.bcjNEgWtYWqXq2FnD7LoUQhmbxoDPLKr4AaN.JCyyWex5TWDI9f7PHOShkLIY65ZsJLmfAxNhmyy9IGy9lupX_FIg5c8x0o.Kcz0eh5tGUDIKvmPsdhiOkxFjdFXA16Uy1Srqa8IiO.LUVOAUw4cBXaIWLqPFB0jBEp3Vqmwo00R0o7U952QNH.pCj7wIPTqjmFRoQWeOy5wnoRiy6SG7xuI4Cnl_9z1UnvN0CnmU6tG80fLVWkiV1oIAmsJQJyFtgLi1wTkkQWkKrIhEp0.1IHhin2hwwkYMvDa8yNueFstJF4G_pdffv5LrCy4fmuDF.mefBrBfi_Cgjx4MRIIvbdWh46shdd9YMh16diktii5SKZGimzooy9eFOWXYegy9PBiScMmTWTehY3KLCK1PDfYqa8.47C3dPlS9MEMqUugI3mU75lCH1s7HDRizFLKIevLSQOPkiPyZ8KhZNgQRvZCiuxcYu92C2l4AYXF3Ot46rbmos1dYCyFJUB1QMwE9MqzC9rBH7m5yaIyqmQY7Go.Bz_3nFDWlMP6y70R.Sr8wwPMJhLt.ZTMB4gyt4LUBDMj4jX7eZoxm8EhBQ3K7kLPmq7trx09Aw4lnspFqmE0eiOlFXrgqIp4x_IyJ8pgBk67b30F2IbBGKXX6djNMZml206ZVW..uew_pUwo2ybeC.Jlucfe8mzP7gxFh2UfmhLFGcg7H85B.3YpPPal483OIssMOLAP_seYzCFHsLDYh9urmMmGhZjsbSMlgFynpwiC4NG2htDj1z8Mf_f78LQ_r8K99Rjq_eDQB6VYFE4SKGqEMi0pWKnxGh1d3W019xZSmWdLErAPDV.gv.SjoHTQ4.SNeaB8JcACxUj370RsHaOh.l7No2hSe__4bRlnCtvsj3oLN6YC6d18CRWT7jh9r9qvPTb90Y8d4kdYA7iiqMw_fwGYGvgP3jRBShu62iwizcAeyMBM.wWj3AIZp0zBq50RNYnZrxdVgi5NeJRdUtG0zqWRVaQhqy3xx5JTUki1flfW7vBs7KfErr0B4E5lfXu1YP_T_jNs5hjSNf1HKnITJG2Ur5uQXrMBaOS6FT1Rkhj5F.fvMyEqP6A7L8S1mlBAdPN95Q_530TNjcfSxgmhDtZnXkuvnEQGLHrPNsm_04CX6JIkC4.IsF45swjIWn_cS5GQwXC1d3wpFwngcj62S74E5w8vv22zp4cfb5mW8L2XpkCeK3J5DFUsnenaqmCKsFIl.Ln9I5jfGJkC2nw2zxuSfp6edN57iHuQm_PmNy9tETkS_rUxEn2WuGEgVOfjXXHn20BjGnF6QbxYWOnCi05UBqFu8Za7Yl7IlYpo7PZ0Fcz4z3BZu5L3BEDm_c83WXnNrHfw0nvQy9miUdrz9VZuOCRhDIUh197iAWFEDk6YdxrQxOzUJFL5SEhVHoeWsmLGsdxJHszBVatzXd6qetUUOaEoyDolJCzvt_G9moS4umHxPgQYqWhdHcXMzE3lhOf3WaGudfxCpLRxk3BvxrFuLO0F_ITSZofWsaGZyzsuuXltSVYXQ6irv_SLXzpoJEulJfyKVy9l_eKIi23fRb.WvNJW9kHMO3dgtWko0bT4uLPJIFV.eC.2rln76Vbw8TCRsgQkuA9Nze5GrsPKwv3K3x6xw3Mmi_J3xtcSSTZ587kSB5ACAj0GnQTLI8RIBmZtpPOFtxcmRHbEo1bGPRF7jBX9CdOH5GnWPOvSL.oT2zTXRkxhQti42XnvJW9h8YP.PyAlZ51glzAgTwCLrGnllwbS.dmWpGlvmydjy9Cp0VOFeofIm0mGrwZsMqddNaOsc37AyPqd6L_2PQ20FNxedRCuyExqHa1jJoEZxqsaH72qlSlYsaihLHy4sJ_mdSz_hf16iN4lM_QXo.lHD2TSoJQTZXcwIMTCuuGTd9VU6xsuEouS6SXbvT760l3VLv7Zzb6jBkqlNOWvaohcVmrC2Xb1k7F7Zio.YdYjDEd79xPlnzdPc8hav7Wd5NugW05HSzH4U3J21_OIReB9GgsTVMWrb1.CwqD0DmCfAZSAzQh6rZjLTVzKVPblT.uv3d6P33BejmRsVvxCSNkyNmBTdQc64v_gZ5V8JPbzAmNbPnCKoyZ2lbdd.0kuo6nLZ845be55Y1tGbOm3i0NYo\\',};var a = document.createElement(\\'script\\');a.src = \\'/cdn-cgi/challenge-platform/h/b/orchestrate/chl_page/v1?ray=9799ea5beff8d908\\';window._cf_chl_opt.cOgUHash = location.hash === \\'\\' && location.href.indexOf(\\'#\\') !== -1 ? \\'#\\' : location.hash;window._cf_chl_opt.cOgUQuery = location.search === \\'\\' && location.href.slice(0, location.href.length - window._cf_chl_opt.cOgUHash.length).indexOf(\\'?\\') !== -1 ? \\'?\\' : location.search;if (window.history && window.history.replaceState) {var ogU = location.pathname + window._cf_chl_opt.cOgUQuery + window._cf_chl_opt.cOgUHash;history.replaceState(null, null,\"\\\\/en\\\\/comps\\\\/9\\\\/2024-2025\\\\/2024-2025-Premier-League-Stats?__cf_chl_rt_tk=jILTIO5GNVkVqP2Y4yEIr0bF6zkBygR5uoFm5si33Yg-1756951459-1.0.1.1-oiev2P1vzGJdwV_bgDqLS_NUXGRimVNi6KSdK_Nak1g\"+ window._cf_chl_opt.cOgUHash);a.onload = function() {history.replaceState(null, null, ogU);}}document.getElementsByTagName(\\'head\\')[0].appendChild(a);}());</script></body></html>'"
            ],
            "application/vnd.google.colaboratory.intrinsic+json": {
              "type": "string"
            }
          },
          "metadata": {},
          "execution_count": 13
        }
      ]
    }
  ]
}