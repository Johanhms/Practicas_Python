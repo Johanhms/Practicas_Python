{
  "nbformat": 4,
  "nbformat_minor": 0,
  "metadata": {
    "colab": {
      "provenance": [],
      "authorship_tag": "ABX9TyNt31ZunaAht7QQobSxG9df",
      "include_colab_link": true
    },
    "kernelspec": {
      "name": "python3",
      "display_name": "Python 3"
    },
    "language_info": {
      "name": "python"
    }
  },
  "cells": [
    {
      "cell_type": "markdown",
      "metadata": {
        "id": "view-in-github",
        "colab_type": "text"
      },
      "source": [
        "<a href=\"https://colab.research.google.com/github/Johanhms/Learning_Python/blob/main/ETL_Python.ipynb\" target=\"_parent\"><img src=\"https://colab.research.google.com/assets/colab-badge.svg\" alt=\"Open In Colab\"/></a>"
      ]
    },
    {
      "cell_type": "code",
      "execution_count": 1,
      "metadata": {
        "colab": {
          "base_uri": "https://localhost:8080/"
        },
        "id": "UFOsK9GF7pYn",
        "outputId": "506e3660-0201-42cd-bb1e-29a5df8473ec"
      },
      "outputs": [
        {
          "output_type": "stream",
          "name": "stdout",
          "text": [
            "DataFrame de origen:\n",
            "   id_venta fecha_venta  id_producto    cantidad  precio_unitario region\n",
            "0         1  2023-01-05          101  5 unidades             25.5  norte\n",
            "1         2  2023/01/06          102      10 un.             15.0    sur\n",
            "2         3  2023-01-07          103           3             50.0  Norte\n"
          ]
        }
      ],
      "source": [
        "# Instala la librería SQLAlchemy para conectar con bases de datos\n",
        "!pip install --quiet sqlalchemy\n",
        "\n",
        "import pandas as pd\n",
        "import io\n",
        "\n",
        "# Simula la extracción de datos de origen\n",
        "# En un escenario real, cargarías un archivo con pd.read_csv()\n",
        "# o te conectarías a una base de datos con SQLAlchemy.\n",
        "data_origen = \"\"\"id_venta,fecha_venta,id_producto,cantidad,precio_unitario,region\n",
        "1,2023-01-05,101,5 unidades,25.50,norte\n",
        "2,2023/01/06,102,10 un.,15.00,sur\n",
        "3,2023-01-07,103,3,50.00,Norte\n",
        "\"\"\"\n",
        "\n",
        "df_raw = pd.read_csv(io.StringIO(data_origen))\n",
        "\n",
        "print(\"DataFrame de origen:\")\n",
        "print(df_raw)"
      ]
    },
    {
      "cell_type": "code",
      "source": [
        "# Copia el DataFrame para no modificar el original\n",
        "df_limpio = df_raw.copy()\n",
        "\n",
        "# 1. Limpia y convierte la columna 'cantidad' a un tipo numérico\n",
        "df_limpio['cantidad'] = df_limpio['cantidad'].str.replace(r'[^0-9]', '', regex=True).astype(int)\n",
        "\n",
        "# 2. Convierte la columna 'fecha_venta' a tipo datetime\n",
        "df_limpio['fecha_venta'] = pd.to_datetime(df_limpio['fecha_venta'], errors='coerce', format='mixed')\n",
        "\n",
        "# 3. Normaliza la columna 'region' a mayúsculas y minúsculas\n",
        "df_limpio['region_normalizada'] = df_limpio['region'].str.capitalize()\n",
        "\n",
        "# 4. Calcula el 'precio_total'\n",
        "df_limpio['precio_total'] = df_limpio['cantidad'] * df_limpio['precio_unitario']\n",
        "\n",
        "# Selecciona y reordena las columnas finales\n",
        "df_final = df_limpio[['id_venta', 'fecha_venta', 'id_producto', 'cantidad', 'precio_total', 'region_normalizada']]\n",
        "\n",
        "print(\"\\nDataFrame final (transformado):\")\n",
        "print(df_final)"
      ],
      "metadata": {
        "colab": {
          "base_uri": "https://localhost:8080/"
        },
        "id": "L4H-KtKE-Wwa",
        "outputId": "f78574c9-2d2d-4198-b9f4-e41803df6054"
      },
      "execution_count": 6,
      "outputs": [
        {
          "output_type": "stream",
          "name": "stdout",
          "text": [
            "\n",
            "DataFrame final (transformado):\n",
            "   id_venta fecha_venta  id_producto  cantidad  precio_total  \\\n",
            "0         1  2023-01-05          101         5         127.5   \n",
            "1         2  2023-01-06          102        10         150.0   \n",
            "2         3  2023-01-07          103         3         150.0   \n",
            "\n",
            "  region_normalizada  \n",
            "0              Norte  \n",
            "1                Sur  \n",
            "2              Norte  \n"
          ]
        }
      ]
    },
    {
      "cell_type": "code",
      "source": [
        "# Opción 1: Guardar el DataFrame como un archivo CSV\n",
        "df_final.to_csv('ventas_limpias.csv', index=False)\n",
        "print(\"\\nDatos cargados exitosamente a 'ventas_limpias.csv'\")\n",
        "\n",
        "# Opción 2: Cargar el DataFrame a una base de datos SQLite (ideal para practicar)\n",
        "from sqlalchemy import create_engine\n",
        "\n",
        "# Crea una conexión a una base de datos en memoria (SQLite)\n",
        "engine = create_engine('sqlite:///:memory:')\n",
        "\n",
        "# Carga el DataFrame en una tabla SQL\n",
        "df_final.to_sql('ventas_finales', con=engine, index=False, if_exists='replace')\n",
        "\n",
        "print(\"\\nDatos cargados a la base de datos 'ventas_finales'.\")\n",
        "\n",
        "# Verifícalo consultando la tabla\n",
        "with engine.connect() as conn:\n",
        "    df_verificacion = pd.read_sql(\"SELECT * FROM ventas_finales\", conn)\n",
        "    print(\"\\nVerificación de la carga desde la base de datos:\")\n",
        "    print(df_verificacion)"
      ],
      "metadata": {
        "colab": {
          "base_uri": "https://localhost:8080/"
        },
        "id": "jL_QmBfz_TmO",
        "outputId": "29f0e52b-d3f2-499f-8153-34ddcc25ee37"
      },
      "execution_count": 7,
      "outputs": [
        {
          "output_type": "stream",
          "name": "stdout",
          "text": [
            "\n",
            "Datos cargados exitosamente a 'ventas_limpias.csv'\n",
            "\n",
            "Datos cargados a la base de datos 'ventas_finales'.\n",
            "\n",
            "Verificación de la carga desde la base de datos:\n",
            "   id_venta                 fecha_venta  id_producto  cantidad  precio_total  \\\n",
            "0         1  2023-01-05 00:00:00.000000          101         5         127.5   \n",
            "1         2  2023-01-06 00:00:00.000000          102        10         150.0   \n",
            "2         3  2023-01-07 00:00:00.000000          103         3         150.0   \n",
            "\n",
            "  region_normalizada  \n",
            "0              Norte  \n",
            "1                Sur  \n",
            "2              Norte  \n"
          ]
        }
      ]
    },
    {
      "cell_type": "code",
      "source": [],
      "metadata": {
        "id": "1NxhC2yv_TbR"
      },
      "execution_count": null,
      "outputs": []
    },
    {
      "cell_type": "code",
      "source": [],
      "metadata": {
        "id": "r2z6vron-qIY"
      },
      "execution_count": null,
      "outputs": []
    }
  ]
}